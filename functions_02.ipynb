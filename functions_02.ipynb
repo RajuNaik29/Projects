{
  "nbformat": 4,
  "nbformat_minor": 0,
  "metadata": {
    "colab": {
      "provenance": [],
      "authorship_tag": "ABX9TyMp05Ky9CWGsjHyvqWa5+gI",
      "include_colab_link": true
    },
    "kernelspec": {
      "name": "python3",
      "display_name": "Python 3"
    },
    "language_info": {
      "name": "python"
    }
  },
  "cells": [
    {
      "cell_type": "markdown",
      "metadata": {
        "id": "view-in-github",
        "colab_type": "text"
      },
      "source": [
        "<a href=\"https://colab.research.google.com/github/RajuNaik29/Projects/blob/main/functions_02.ipynb\" target=\"_parent\"><img src=\"https://colab.research.google.com/assets/colab-badge.svg\" alt=\"Open In Colab\"/></a>"
      ]
    },
    {
      "cell_type": "code",
      "execution_count": null,
      "metadata": {
        "colab": {
          "base_uri": "https://localhost:8080/"
        },
        "id": "vQP8RpmemJX2",
        "outputId": "b5fb3c4f-b709-4456-9268-184877cdeea3"
      },
      "outputs": [
        {
          "output_type": "stream",
          "name": "stdout",
          "text": [
            "Running\n"
          ]
        },
        {
          "output_type": "execute_result",
          "data": {
            "text/plain": [
              "True"
            ]
          },
          "metadata": {},
          "execution_count": 1
        }
      ],
      "source": [
        "print('Running')\n",
        "def random():\n",
        "  return True\n",
        "random()"
      ]
    },
    {
      "cell_type": "code",
      "source": [
        "print('Running')\n",
        "def random():\n",
        "  return True\n",
        "random() # In this code the random function value is stored as true and will not be displayed.\n",
        "print('Running done')"
      ],
      "metadata": {
        "colab": {
          "base_uri": "https://localhost:8080/"
        },
        "id": "j1mfuaFnvF5B",
        "outputId": "0238c5ff-2d1e-4c6a-94ae-32a11f0e73ca"
      },
      "execution_count": null,
      "outputs": [
        {
          "output_type": "stream",
          "name": "stdout",
          "text": [
            "Running\n",
            "Running done\n"
          ]
        }
      ]
    },
    {
      "cell_type": "markdown",
      "source": [
        "Explanation for above code:\n",
        "In your code, you've defined a function called `random()`, but you're not doing anything with its return value. When you call the `random()` function, it returns `True`, but you're not printing or storing this return value anywhere. Hence, it seems like nothing is being displayed, even though the function is indeed returning `True`.\n",
        "\n",
        "If you want to see the return value of the `random()` function, you should either print it or store it in a variable:\n",
        "\n",
        "Now, it will print `True` after \"Running\" and before \"Running done\"."
      ],
      "metadata": {
        "id": "xEG0AQ2y4K3b"
      }
    },
    {
      "cell_type": "code",
      "source": [
        "print('Running')\n",
        "def random():\n",
        "  return True\n",
        "result = random()\n",
        "print(result)\n",
        "print('Running done')"
      ],
      "metadata": {
        "colab": {
          "base_uri": "https://localhost:8080/"
        },
        "id": "3f-Il_l445oE",
        "outputId": "948b0ce1-c98e-4892-d97d-18dbf609cee3"
      },
      "execution_count": null,
      "outputs": [
        {
          "output_type": "stream",
          "name": "stdout",
          "text": [
            "Running\n",
            "True\n",
            "Running done\n"
          ]
        }
      ]
    },
    {
      "cell_type": "markdown",
      "source": [
        "# Global and Local Variables\n",
        "\n",
        "In programming, particularly in languages like Python, variables have scope, which defines where in the code they can be accessed or modified. Two common types of variables based on scope are local variables and global variables:\n",
        "\n",
        "1. **Local Variables**:\n",
        "   - Local variables are defined within a function or a block of code and can only be accessed from within that function or block.\n",
        "   - They are created when the function or block is executed and destroyed when the function or block exits.\n",
        "   - They cannot be accessed from outside of the function or block in which they are defined.\n",
        "   - Example:\n",
        "     ```python\n",
        "     def my_function():\n",
        "         x = 10  # This is a local variable\n",
        "         print(x)  # This will print 10\n",
        "\n",
        "     my_function()  # Calling the function\n",
        "     # Attempting to print x outside the function will result in an error\n",
        "     ```\n",
        "\n",
        "2. **Global Variables**:\n",
        "   - Global variables are defined outside of any function or block and can be accessed from anywhere in the code, including inside functions.\n",
        "   - They are accessible throughout the entire program.\n",
        "   - They are typically defined at the top level of a script or module.\n",
        "   - Example:\n",
        "     ```python\n",
        "     y = 20  # This is a global variable\n",
        "\n",
        "     def my_function():\n",
        "         print(y)  # This will print 20\n",
        "\n",
        "     my_function()  # Calling the function\n",
        "     print(y)  # This will also print 20\n",
        "     ```\n",
        "\n",
        "In Python, if a variable is assigned a value within a function without being declared as `global`, it is considered a local variable within that function, even if there is a global variable with the same name. However, if you want to modify a global variable from within a function, you need to explicitly declare it as `global` within that function."
      ],
      "metadata": {
        "id": "h1Dj3vOF7peN"
      }
    },
    {
      "cell_type": "code",
      "source": [
        "#A global variable exists in the program for the entire time the program is executed.\n",
        "#A local variable is created when the function is executed, and once the execution is finished, the variable is destroyed. It can be accessed throughout the program by all the functions present in the program.\n",
        "a = 10 #This is global variable\n",
        "def calculator(number): #number is local\n",
        "  print(number * 10)\n",
        "calculator(number = 10)\n",
        "print(number)\n",
        "print(a)"
      ],
      "metadata": {
        "colab": {
          "base_uri": "https://localhost:8080/",
          "height": 216
        },
        "id": "fPS4AIXdwOFm",
        "outputId": "b51864bd-b038-4dd8-c828-92012cc68fe5"
      },
      "execution_count": null,
      "outputs": [
        {
          "output_type": "stream",
          "name": "stdout",
          "text": [
            "100\n"
          ]
        },
        {
          "output_type": "error",
          "ename": "NameError",
          "evalue": "name 'number' is not defined",
          "traceback": [
            "\u001b[0;31m---------------------------------------------------------------------------\u001b[0m",
            "\u001b[0;31mNameError\u001b[0m                                 Traceback (most recent call last)",
            "\u001b[0;32m<ipython-input-11-145d698f472b>\u001b[0m in \u001b[0;36m<cell line: 7>\u001b[0;34m()\u001b[0m\n\u001b[1;32m      5\u001b[0m   \u001b[0mprint\u001b[0m\u001b[0;34m(\u001b[0m\u001b[0mnumber\u001b[0m \u001b[0;34m*\u001b[0m \u001b[0;36m10\u001b[0m\u001b[0;34m)\u001b[0m\u001b[0;34m\u001b[0m\u001b[0;34m\u001b[0m\u001b[0m\n\u001b[1;32m      6\u001b[0m \u001b[0mcalculator\u001b[0m\u001b[0;34m(\u001b[0m\u001b[0mnumber\u001b[0m \u001b[0;34m=\u001b[0m \u001b[0;36m10\u001b[0m\u001b[0;34m)\u001b[0m\u001b[0;34m\u001b[0m\u001b[0;34m\u001b[0m\u001b[0m\n\u001b[0;32m----> 7\u001b[0;31m \u001b[0mprint\u001b[0m\u001b[0;34m(\u001b[0m\u001b[0mnumber\u001b[0m\u001b[0;34m)\u001b[0m\u001b[0;34m\u001b[0m\u001b[0;34m\u001b[0m\u001b[0m\n\u001b[0m\u001b[1;32m      8\u001b[0m \u001b[0mprint\u001b[0m\u001b[0;34m(\u001b[0m\u001b[0ma\u001b[0m\u001b[0;34m)\u001b[0m\u001b[0;34m\u001b[0m\u001b[0;34m\u001b[0m\u001b[0m\n",
            "\u001b[0;31mNameError\u001b[0m: name 'number' is not defined"
          ]
        }
      ]
    },
    {
      "cell_type": "code",
      "source": [
        "a = 10 # global\n",
        "def calculator(number):# number is local\n",
        "    a=20# a is local\n",
        "    return a\n",
        "a = calculator(a)\n",
        "print(a)"
      ],
      "metadata": {
        "colab": {
          "base_uri": "https://localhost:8080/"
        },
        "id": "oqp883Ys4txK",
        "outputId": "ffe3702c-f438-4379-c39a-7b5e1f06c3de"
      },
      "execution_count": null,
      "outputs": [
        {
          "output_type": "stream",
          "name": "stdout",
          "text": [
            "20\n"
          ]
        }
      ]
    },
    {
      "cell_type": "code",
      "source": [
        "a = 10 # global\n",
        "def calculator(number):# number is local\n",
        "    a=20# a is local\n",
        "    print(a)\n",
        "\n",
        "calculator(a)\n",
        "print(a)"
      ],
      "metadata": {
        "colab": {
          "base_uri": "https://localhost:8080/"
        },
        "id": "kV6pUHBZ4YkS",
        "outputId": "c4eca137-9cb4-42aa-a2f7-a0d6cb4d2e1c"
      },
      "execution_count": null,
      "outputs": [
        {
          "output_type": "stream",
          "name": "stdout",
          "text": [
            "20\n",
            "10\n"
          ]
        }
      ]
    },
    {
      "cell_type": "code",
      "source": [
        "a = 10 # global\n",
        "def calculator(number):# number is local\n",
        "    print('number =', number)\n",
        "\n",
        "calculator(a)\n",
        "print('a outside after function call', a)"
      ],
      "metadata": {
        "colab": {
          "base_uri": "https://localhost:8080/"
        },
        "id": "dlYhsGXp47W3",
        "outputId": "7c0b4b72-2540-4336-e450-2a08760e8d98"
      },
      "execution_count": null,
      "outputs": [
        {
          "output_type": "stream",
          "name": "stdout",
          "text": [
            "number = 10\n",
            "a outside after function call 10\n"
          ]
        }
      ]
    },
    {
      "cell_type": "code",
      "source": [
        "a = 10 # global\n",
        "def calculator(number):# number is local\n",
        "    print('number = ', number)\n",
        "    print('a inside after function call', a)\n",
        "\n",
        "calculator(a)\n",
        "print('a outside after function call', a)\n"
      ],
      "metadata": {
        "colab": {
          "base_uri": "https://localhost:8080/"
        },
        "id": "DAEj_mHE5J1N",
        "outputId": "b8f7646c-4ef9-417e-fb35-7c77b9801bc5"
      },
      "execution_count": null,
      "outputs": [
        {
          "output_type": "stream",
          "name": "stdout",
          "text": [
            "number =  10\n",
            "a inside after function call 10\n",
            "a outside after function call 10\n"
          ]
        }
      ]
    },
    {
      "cell_type": "code",
      "source": [
        "a = 10 # global\n",
        "def calculator(number):# number is local\n",
        "    print('number', number)\n",
        "    a = 25\n",
        "    print('a inside after function call', a)\n",
        "\n",
        "\n",
        "\n",
        "calculator(a)\n",
        "print('a outside after function call', a)"
      ],
      "metadata": {
        "colab": {
          "base_uri": "https://localhost:8080/"
        },
        "id": "f__QM_U-5l27",
        "outputId": "1f055a0a-caf9-4611-9496-f2c38afe3948"
      },
      "execution_count": null,
      "outputs": [
        {
          "output_type": "stream",
          "name": "stdout",
          "text": [
            "number 10\n",
            "a inside after function call 25\n",
            "a outside after function call 10\n"
          ]
        }
      ]
    },
    {
      "cell_type": "code",
      "source": [
        "a = 10 # global\n",
        "def calculator(number):# number is local\n",
        "    print('number = ', number)\n",
        "    newA = a+10\n",
        "    print('a inside after function call',newA)\n",
        "\n",
        "\n",
        "\n",
        "calculator(a)\n",
        "print('a outside after function call', a)"
      ],
      "metadata": {
        "colab": {
          "base_uri": "https://localhost:8080/"
        },
        "id": "ZTzEppKf5qTg",
        "outputId": "94d5b047-4556-4446-cddd-758e823ae350"
      },
      "execution_count": null,
      "outputs": [
        {
          "output_type": "stream",
          "name": "stdout",
          "text": [
            "number =  10\n",
            "a inside after function call 20\n",
            "a outside after function call 10\n"
          ]
        }
      ]
    },
    {
      "cell_type": "code",
      "source": [
        "a = 10 # global\n",
        "def calculator(number):# number is local\n",
        "    print('number', number)\n",
        "    a = 20\n",
        "    print('a inside function', a)\n",
        "\n",
        "calculator(a)\n",
        "print('a outside after function call', a)"
      ],
      "metadata": {
        "colab": {
          "base_uri": "https://localhost:8080/"
        },
        "id": "WniohvXW6AKb",
        "outputId": "060d8f58-cc27-4937-badf-bdb81a734255"
      },
      "execution_count": null,
      "outputs": [
        {
          "output_type": "stream",
          "name": "stdout",
          "text": [
            "number 10\n",
            "a inside function 20\n",
            "a outside after function call 10\n"
          ]
        }
      ]
    },
    {
      "cell_type": "code",
      "source": [
        "a = 10 # global\n",
        "def calculator(number):# number is local\n",
        "    print('number = ', number)\n",
        "    global a #Declares that the variable a inside the function is the global variable a.\n",
        "    a = 20\n",
        "    print('a inside function', a)\n",
        "\n",
        "calculator(a)\n",
        "print('a outside after function call', a) #Prints the value of the global variable a after the function call."
      ],
      "metadata": {
        "colab": {
          "base_uri": "https://localhost:8080/"
        },
        "id": "3tBqU6586Cb2",
        "outputId": "4933d4f0-6986-4e40-a719-5869de365c24"
      },
      "execution_count": null,
      "outputs": [
        {
          "output_type": "stream",
          "name": "stdout",
          "text": [
            "number =  10\n",
            "a inside function 20\n",
            "a outside after function call 20\n"
          ]
        }
      ]
    },
    {
      "cell_type": "code",
      "source": [
        "a= 10\n",
        "def calculation(number):\n",
        "    number = global a\n",
        "    print(a)\n",
        "calculation(a)"
      ],
      "metadata": {
        "colab": {
          "base_uri": "https://localhost:8080/",
          "height": 143
        },
        "id": "wkPJn1tY6fu1",
        "outputId": "146482bd-8561-44db-8e08-9837fc5deb45"
      },
      "execution_count": null,
      "outputs": [
        {
          "output_type": "error",
          "ename": "SyntaxError",
          "evalue": "ignored",
          "traceback": [
            "\u001b[0;36m  File \u001b[0;32m\"<ipython-input-84-b64c24c5aa44>\"\u001b[0;36m, line \u001b[0;32m3\u001b[0m\n\u001b[0;31m    number = global a\u001b[0m\n\u001b[0m             ^\u001b[0m\n\u001b[0;31mSyntaxError\u001b[0m\u001b[0;31m:\u001b[0m invalid syntax\n"
          ]
        }
      ]
    },
    {
      "cell_type": "code",
      "source": [
        "a= 10\n",
        "def calculation(number):\n",
        "    number =  a\n",
        "    print(a,number)\n",
        "calculation(a)\n"
      ],
      "metadata": {
        "colab": {
          "base_uri": "https://localhost:8080/"
        },
        "id": "PTD6x8yI6mpB",
        "outputId": "b9f22252-dfb9-4036-f91a-20fd1af04865"
      },
      "execution_count": null,
      "outputs": [
        {
          "output_type": "stream",
          "name": "stdout",
          "text": [
            "10 10\n"
          ]
        }
      ]
    },
    {
      "cell_type": "code",
      "source": [
        "x = 10\n",
        "def function():\n",
        "    x = 5\n",
        "    print(x)\n",
        "function()\n",
        "print(x)\n"
      ],
      "metadata": {
        "colab": {
          "base_uri": "https://localhost:8080/"
        },
        "id": "ldnITnHS6s8o",
        "outputId": "76006352-a47e-4ecf-bf30-ab3df1925200"
      },
      "execution_count": null,
      "outputs": [
        {
          "output_type": "stream",
          "name": "stdout",
          "text": [
            "5\n",
            "10\n"
          ]
        }
      ]
    },
    {
      "cell_type": "code",
      "source": [
        "x = 10\n",
        "def function():\n",
        "    global x\n",
        "    x = 5\n",
        "    print(x)\n",
        "function()\n",
        "print(x)"
      ],
      "metadata": {
        "colab": {
          "base_uri": "https://localhost:8080/"
        },
        "id": "iQpZ8iGg6vrE",
        "outputId": "f38e359a-2bc7-43b6-b790-bc34afcc8ae9"
      },
      "execution_count": null,
      "outputs": [
        {
          "output_type": "stream",
          "name": "stdout",
          "text": [
            "5\n",
            "5\n"
          ]
        }
      ]
    },
    {
      "cell_type": "code",
      "source": [
        "b = 10\n",
        "def function():\n",
        "  global b\n",
        "  b = 29\n",
        "  print(b)\n",
        "function()\n",
        "print(b)"
      ],
      "metadata": {
        "colab": {
          "base_uri": "https://localhost:8080/"
        },
        "id": "RZOmtE_S6z-b",
        "outputId": "e04f1aa1-339e-4853-b4ec-b653ba2f6113"
      },
      "execution_count": null,
      "outputs": [
        {
          "output_type": "stream",
          "name": "stdout",
          "text": [
            "29\n",
            "29\n"
          ]
        }
      ]
    },
    {
      "cell_type": "code",
      "source": [
        "a = 10\n",
        "def calculator(number):\n",
        "    print(number * 10)\n",
        "\n",
        "calculator(a)\n",
        "print(a)"
      ],
      "metadata": {
        "colab": {
          "base_uri": "https://localhost:8080/"
        },
        "id": "-I34N_5nxJ5K",
        "outputId": "98bae792-9629-40f8-e94e-60154ae9565d"
      },
      "execution_count": null,
      "outputs": [
        {
          "output_type": "stream",
          "name": "stdout",
          "text": [
            "100\n",
            "10\n"
          ]
        }
      ]
    },
    {
      "cell_type": "code",
      "source": [
        "print('Running')\n",
        "a = 57\n",
        "def sample_function(a):\n",
        "  if a <= 10:\n",
        "    return 'small'\n",
        "  elif a > 10:\n",
        "    return 'big'\n",
        "sample_function(a)\n",
        "print('Done Running')"
      ],
      "metadata": {
        "colab": {
          "base_uri": "https://localhost:8080/"
        },
        "id": "xfXwFlDMxfpD",
        "outputId": "931aa8f0-f18d-440c-df69-ee6de9f2e15a"
      },
      "execution_count": null,
      "outputs": [
        {
          "output_type": "stream",
          "name": "stdout",
          "text": [
            "Running\n",
            "Done Running\n"
          ]
        }
      ]
    },
    {
      "cell_type": "code",
      "source": [
        "def greet_the_family(mother, father, brother):\n",
        "    \"\"\"\n",
        "        this is the main step\n",
        "        you are meeting the family 😨\n",
        "        you should know the names of the family members 💡\n",
        "\n",
        "            1 mother name\n",
        "            2 father name\n",
        "            3 brother name\n",
        "    \"\"\"\n",
        "    print(\"Touch the 🐾 Hello\", mother)\n",
        "    print(\"Touch the 👟 Hello\", father)\n",
        "    print(\"🙌\", brother)"
      ],
      "metadata": {
        "id": "n3mhYR7byE9N"
      },
      "execution_count": null,
      "outputs": []
    },
    {
      "cell_type": "code",
      "source": [
        "greet_the_family('Shakira', 'Tom Cruise', 'Salman Bhai')"
      ],
      "metadata": {
        "colab": {
          "base_uri": "https://localhost:8080/"
        },
        "id": "WUeN-3P-yQ0s",
        "outputId": "e6ca7e45-975f-4a33-a27a-7079c0be41a1"
      },
      "execution_count": null,
      "outputs": [
        {
          "output_type": "stream",
          "name": "stdout",
          "text": [
            "Touch the 🐾 Hello Shakira\n",
            "Touch the 👟 Hello Tom Cruise\n",
            "🙌 Salman Bhai\n"
          ]
        }
      ]
    },
    {
      "cell_type": "code",
      "source": [
        "# positional arguments\n",
        "greet_the_family('Salman Bhai', 'Tom Cruise', 'Shakira')"
      ],
      "metadata": {
        "colab": {
          "base_uri": "https://localhost:8080/"
        },
        "id": "El8wqqk2yTS2",
        "outputId": "3aef74ec-baf4-4841-da2a-21ee8b18abe7"
      },
      "execution_count": null,
      "outputs": [
        {
          "output_type": "stream",
          "name": "stdout",
          "text": [
            "Touch the 🐾 Hello Salman Bhai\n",
            "Touch the 👟 Hello Tom Cruise\n",
            "🙌 Shakira\n"
          ]
        }
      ]
    },
    {
      "cell_type": "code",
      "source": [
        "# keyword arguments\n",
        "print(\"This\", 'is', \"print\", sep=\"--\", end=\"\\n\\n\")\n",
        "print(\"This\", 'is 2nd', \"print\", sep=\"--\")"
      ],
      "metadata": {
        "colab": {
          "base_uri": "https://localhost:8080/"
        },
        "id": "V9MG65rByaIf",
        "outputId": "93cd1200-abe3-488d-a826-1b5bd16e3813"
      },
      "execution_count": null,
      "outputs": [
        {
          "output_type": "stream",
          "name": "stdout",
          "text": [
            "This--is--print\n",
            "\n",
            "This--is 2nd--print\n"
          ]
        }
      ]
    },
    {
      "cell_type": "code",
      "source": [
        "greet_the_family(mother = 'Shakira', father ='Tom Cruise', brother='Salman Bhai')"
      ],
      "metadata": {
        "colab": {
          "base_uri": "https://localhost:8080/"
        },
        "id": "w07D50qHyflt",
        "outputId": "ca49a085-ef4d-4825-adc3-14dcebf6c00e"
      },
      "execution_count": null,
      "outputs": [
        {
          "output_type": "stream",
          "name": "stdout",
          "text": [
            "Touch the 🐾 Hello Shakira\n",
            "Touch the 👟 Hello Tom Cruise\n",
            "🙌 Salman Bhai\n"
          ]
        }
      ]
    },
    {
      "cell_type": "code",
      "source": [
        "greet_the_family(brother='Salman Bhai', father ='Tom Cruise', mother = 'Shakira')"
      ],
      "metadata": {
        "colab": {
          "base_uri": "https://localhost:8080/"
        },
        "id": "ulBCxyJtykvw",
        "outputId": "2a401590-71fd-4a9c-dff0-5ee4b324e7b1"
      },
      "execution_count": null,
      "outputs": [
        {
          "output_type": "stream",
          "name": "stdout",
          "text": [
            "Touch the 🐾 Hello Shakira\n",
            "Touch the 👟 Hello Tom Cruise\n",
            "🙌 Salman Bhai\n"
          ]
        }
      ]
    },
    {
      "cell_type": "code",
      "source": [
        "def printer(a,b,c,d):\n",
        "    print('a =', a)\n",
        "    print('b =', b)\n",
        "    print('c =', c)\n",
        "    print('d =', d)"
      ],
      "metadata": {
        "id": "6dXpzXJUyqwi"
      },
      "execution_count": null,
      "outputs": []
    },
    {
      "cell_type": "code",
      "source": [
        "printer(1,2,3,4) #positional"
      ],
      "metadata": {
        "colab": {
          "base_uri": "https://localhost:8080/"
        },
        "id": "rchH6f-my37G",
        "outputId": "01cd9be5-a50e-4be1-96c4-45922b65c4e7"
      },
      "execution_count": null,
      "outputs": [
        {
          "output_type": "stream",
          "name": "stdout",
          "text": [
            "a = 1\n",
            "b = 2\n",
            "c = 3\n",
            "d = 4\n"
          ]
        }
      ]
    },
    {
      "cell_type": "code",
      "source": [
        "printer(a=1,d=2,c=3,b=4) #keyword"
      ],
      "metadata": {
        "colab": {
          "base_uri": "https://localhost:8080/"
        },
        "id": "5AT-PykHytBm",
        "outputId": "f90526d0-baa3-42ce-fa9b-7a6ad32cd70e"
      },
      "execution_count": null,
      "outputs": [
        {
          "output_type": "stream",
          "name": "stdout",
          "text": [
            "a = 1\n",
            "b = 4\n",
            "c = 3\n",
            "d = 2\n"
          ]
        }
      ]
    },
    {
      "cell_type": "code",
      "source": [
        "printer(c=3,d=4,a=1,b=2) #keyword"
      ],
      "metadata": {
        "colab": {
          "base_uri": "https://localhost:8080/"
        },
        "id": "GVhqlw20yzdE",
        "outputId": "9dcdf597-a32b-41c7-e92a-0d4d0c676261"
      },
      "execution_count": null,
      "outputs": [
        {
          "output_type": "stream",
          "name": "stdout",
          "text": [
            "a = 1\n",
            "b = 2\n",
            "c = 3\n",
            "d = 4\n"
          ]
        }
      ]
    },
    {
      "cell_type": "code",
      "source": [
        "printer(c=3,d=4, c=1,b=2) # keyword"
      ],
      "metadata": {
        "colab": {
          "base_uri": "https://localhost:8080/",
          "height": 143
        },
        "id": "jFy1LUpnzDeS",
        "outputId": "bb8e5943-c4ee-4548-ab11-a819bda06b4a"
      },
      "execution_count": null,
      "outputs": [
        {
          "output_type": "error",
          "ename": "SyntaxError",
          "evalue": "ignored",
          "traceback": [
            "\u001b[0;36m  File \u001b[0;32m\"<ipython-input-32-a447e1ad27c6>\"\u001b[0;36m, line \u001b[0;32m1\u001b[0m\n\u001b[0;31m    printer(c=3,d=4, c=1,b=2) # keyword\u001b[0m\n\u001b[0m                     ^\u001b[0m\n\u001b[0;31mSyntaxError\u001b[0m\u001b[0;31m:\u001b[0m keyword argument repeated: c\n"
          ]
        }
      ]
    },
    {
      "cell_type": "code",
      "source": [
        "def printer(a,b,c,d):\n",
        "    print('a =', a)\n",
        "    print('b =', b)\n",
        "    print('c =', c)\n",
        "    print('d =', d)\n",
        "printer(1,2,d=4,c=3)\n"
      ],
      "metadata": {
        "colab": {
          "base_uri": "https://localhost:8080/"
        },
        "id": "Jy0uoV3XzRTD",
        "outputId": "11b88bb9-b8b5-46f7-b07d-327e76912373"
      },
      "execution_count": null,
      "outputs": [
        {
          "output_type": "stream",
          "name": "stdout",
          "text": [
            "a = 1\n",
            "b = 2\n",
            "c = 3\n",
            "d = 4\n"
          ]
        }
      ]
    },
    {
      "cell_type": "code",
      "source": [
        "def printer(a,b,c,d):\n",
        "    print('a =', a)\n",
        "    print('b =', b)\n",
        "    print('c =', c)\n",
        "    print('d =', d)\n",
        "printer(2,1,d=4,c=3)\n"
      ],
      "metadata": {
        "colab": {
          "base_uri": "https://localhost:8080/"
        },
        "id": "CwlekwI5zUC9",
        "outputId": "c17750cf-dbfa-40c7-f85f-4c83d73f2d58"
      },
      "execution_count": null,
      "outputs": [
        {
          "output_type": "stream",
          "name": "stdout",
          "text": [
            "a = 2\n",
            "b = 1\n",
            "c = 3\n",
            "d = 4\n"
          ]
        }
      ]
    },
    {
      "cell_type": "code",
      "source": [
        "def printer(a,b,c,d):\n",
        "    print('a =', a)\n",
        "    print('b =', b)\n",
        "    print('c =', c)\n",
        "    print('d =', d)\n",
        "printer(d=4,1,2,c=3)"
      ],
      "metadata": {
        "colab": {
          "base_uri": "https://localhost:8080/",
          "height": 143
        },
        "id": "ejf3XAIbzbP5",
        "outputId": "6ab868de-89fb-4d85-b673-a7b51cfe0a83"
      },
      "execution_count": null,
      "outputs": [
        {
          "output_type": "error",
          "ename": "SyntaxError",
          "evalue": "ignored",
          "traceback": [
            "\u001b[0;36m  File \u001b[0;32m\"<ipython-input-36-8795747454b9>\"\u001b[0;36m, line \u001b[0;32m6\u001b[0m\n\u001b[0;31m    printer(d=4,1,2,c=3)\u001b[0m\n\u001b[0m                       ^\u001b[0m\n\u001b[0;31mSyntaxError\u001b[0m\u001b[0;31m:\u001b[0m positional argument follows keyword argument\n"
          ]
        }
      ]
    },
    {
      "cell_type": "code",
      "source": [
        "def printer(a,b,c,d):\n",
        "    print('a =', a)\n",
        "    print('b =', b)\n",
        "    print('c =', c)\n",
        "    print('d =', d)\n",
        "printer( 1,b=2, 3, 4 )\n",
        "#positional arguments cannot come after keyword arguments. First positional arguments have to come later the keyword arguments.\n"
      ],
      "metadata": {
        "colab": {
          "base_uri": "https://localhost:8080/",
          "height": 143
        },
        "id": "i5pLXdA3ziXj",
        "outputId": "b5ce0758-2a4a-41de-aca6-bd0b0cac420e"
      },
      "execution_count": null,
      "outputs": [
        {
          "output_type": "error",
          "ename": "SyntaxError",
          "evalue": "ignored",
          "traceback": [
            "\u001b[0;36m  File \u001b[0;32m\"<ipython-input-38-48efe34741a4>\"\u001b[0;36m, line \u001b[0;32m6\u001b[0m\n\u001b[0;31m    printer( 1,b=2, 3, 4 ) #positional arguments cannot come after keyword arguments. First positional arguments have to come later the keyword arguments.\u001b[0m\n\u001b[0m                         ^\u001b[0m\n\u001b[0;31mSyntaxError\u001b[0m\u001b[0;31m:\u001b[0m positional argument follows keyword argument\n"
          ]
        }
      ]
    },
    {
      "cell_type": "code",
      "source": [
        "def simple_interest(p,t,r):\n",
        "    \"\"\"\n",
        "    p: Principal amount\n",
        "    r: rate of interest\n",
        "    t: time\n",
        "    \"\"\"\n",
        "    interest = p*r*t/100\n",
        "    return interest\n",
        "print(simple_interest(100,9.5,2))"
      ],
      "metadata": {
        "colab": {
          "base_uri": "https://localhost:8080/"
        },
        "id": "dBeksMMM1SVk",
        "outputId": "f3500be5-c29c-433e-a41b-0c8365095f0f"
      },
      "execution_count": null,
      "outputs": [
        {
          "output_type": "stream",
          "name": "stdout",
          "text": [
            "19.0\n"
          ]
        }
      ]
    },
    {
      "cell_type": "code",
      "source": [
        "def simple_interest(p,r,t):\n",
        "    \"\"\"\n",
        "    p: Principal amount\n",
        "    r: rate of interest\n",
        "    t: time\n",
        "    \"\"\"\n",
        "    interest = p*r*t/100\n",
        "    return interest\n",
        "print(simple_interest(100,9.5))"
      ],
      "metadata": {
        "colab": {
          "base_uri": "https://localhost:8080/",
          "height": 214
        },
        "id": "am_p_ghu1hdl",
        "outputId": "bdfb04e0-2a98-43f0-f1fb-f75dae2a7d8f"
      },
      "execution_count": null,
      "outputs": [
        {
          "output_type": "error",
          "ename": "TypeError",
          "evalue": "ignored",
          "traceback": [
            "\u001b[0;31m---------------------------------------------------------------------------\u001b[0m",
            "\u001b[0;31mTypeError\u001b[0m                                 Traceback (most recent call last)",
            "\u001b[0;32m<ipython-input-42-78b8abedfe19>\u001b[0m in \u001b[0;36m<cell line: 9>\u001b[0;34m()\u001b[0m\n\u001b[1;32m      7\u001b[0m     \u001b[0minterest\u001b[0m \u001b[0;34m=\u001b[0m \u001b[0mp\u001b[0m\u001b[0;34m*\u001b[0m\u001b[0mr\u001b[0m\u001b[0;34m*\u001b[0m\u001b[0mt\u001b[0m\u001b[0;34m/\u001b[0m\u001b[0;36m100\u001b[0m\u001b[0;34m\u001b[0m\u001b[0;34m\u001b[0m\u001b[0m\n\u001b[1;32m      8\u001b[0m     \u001b[0;32mreturn\u001b[0m \u001b[0minterest\u001b[0m\u001b[0;34m\u001b[0m\u001b[0;34m\u001b[0m\u001b[0m\n\u001b[0;32m----> 9\u001b[0;31m \u001b[0mprint\u001b[0m\u001b[0;34m(\u001b[0m\u001b[0msimple_interest\u001b[0m\u001b[0;34m(\u001b[0m\u001b[0;36m100\u001b[0m\u001b[0;34m,\u001b[0m\u001b[0;36m9.5\u001b[0m\u001b[0;34m)\u001b[0m\u001b[0;34m)\u001b[0m\u001b[0;34m\u001b[0m\u001b[0;34m\u001b[0m\u001b[0m\n\u001b[0m",
            "\u001b[0;31mTypeError\u001b[0m: simple_interest() missing 1 required positional argument: 't'"
          ]
        }
      ]
    },
    {
      "cell_type": "code",
      "source": [
        "def simple_interest(p,r,t=5):\n",
        "    \"\"\"\n",
        "    p: Principal amount\n",
        "    r: rate of interest\n",
        "    t: time\n",
        "    \"\"\"\n",
        "    interest = p*r*t/100\n",
        "    return interest\n",
        "print(simple_interest(100,9.5))\n",
        "print(simple_interest(100,9.5,2))\n"
      ],
      "metadata": {
        "colab": {
          "base_uri": "https://localhost:8080/"
        },
        "id": "GrMZ2wTE1olt",
        "outputId": "20ed704b-8520-4daa-8602-fba77e760d9a"
      },
      "execution_count": null,
      "outputs": [
        {
          "output_type": "stream",
          "name": "stdout",
          "text": [
            "47.5\n",
            "19.0\n"
          ]
        }
      ]
    },
    {
      "cell_type": "code",
      "source": [
        "def simple_interest(p,t=5,r):\n",
        "    \"\"\"\n",
        "    p: Principal amount\n",
        "    r: rate of interest\n",
        "    t: time\n",
        "    \"\"\"\n",
        "    interest = p*r*t/100\n",
        "    return interest\n",
        "print(simple_interest(100,9.5))\n",
        "print(simple_interest(100,9.5,2))\n",
        "\n",
        "# The default value t = 5 have to come absoluetly at the end."
      ],
      "metadata": {
        "colab": {
          "base_uri": "https://localhost:8080/",
          "height": 143
        },
        "id": "Mf2chxSR1vjZ",
        "outputId": "da4776ef-6202-4ac5-db5f-18a6ba137d8b"
      },
      "execution_count": null,
      "outputs": [
        {
          "output_type": "error",
          "ename": "SyntaxError",
          "evalue": "ignored",
          "traceback": [
            "\u001b[0;36m  File \u001b[0;32m\"<ipython-input-44-c2221f3870d1>\"\u001b[0;36m, line \u001b[0;32m1\u001b[0m\n\u001b[0;31m    def simple_interest(p,t=5,r):\u001b[0m\n\u001b[0m                              ^\u001b[0m\n\u001b[0;31mSyntaxError\u001b[0m\u001b[0;31m:\u001b[0m non-default argument follows default argument\n"
          ]
        }
      ]
    },
    {
      "cell_type": "code",
      "source": [
        "def simple_interest(p,r,t=5):\n",
        "    \"\"\"\n",
        "    p: Principal amount\n",
        "    r: rate of interest\n",
        "    t: time\n",
        "    \"\"\"\n",
        "    interest = p*r*t/100\n",
        "    return interest\n",
        "print(simple_interest(100,9.5))\n",
        "print(simple_interest(100,9.5,2))"
      ],
      "metadata": {
        "colab": {
          "base_uri": "https://localhost:8080/"
        },
        "id": "4qBfpZF-2AXa",
        "outputId": "9322b0f9-83ad-40da-bf84-e1d69b9b9ba5"
      },
      "execution_count": null,
      "outputs": [
        {
          "output_type": "stream",
          "name": "stdout",
          "text": [
            "47.5\n",
            "19.0\n"
          ]
        }
      ]
    },
    {
      "cell_type": "code",
      "source": [
        "print(\n",
        "'''\n",
        "Question 1 -\n",
        "Create a date printing function (print_date) -\n",
        "Should take 4 arguments -> day, month, year and style\n",
        "\n",
        "Styling Logic -\n",
        "style -> 0 -> d/m/y\n",
        "style -> 1 -> m/d/y\n",
        "style -> any other value -> Invalid Style\n",
        "\n",
        "default style is 0.\n",
        "'''\n",
        "\n",
        ")\n",
        "\n"
      ],
      "metadata": {
        "colab": {
          "base_uri": "https://localhost:8080/"
        },
        "id": "Y6C-zFxB2qYo",
        "outputId": "e81e78f6-5d76-4931-fd21-ad70303c8252"
      },
      "execution_count": null,
      "outputs": [
        {
          "output_type": "stream",
          "name": "stdout",
          "text": [
            "\n",
            "Question 1 -\n",
            "Create a date printing function (print_date) -\n",
            "Should take 4 arguments -> day, month, year and style\n",
            "\n",
            "Styling Logic -\n",
            "style -> 0 -> d/m/y\n",
            "style -> 1 -> m/d/y\n",
            "style -> any other value -> Invalid Style\n",
            "\n",
            "default style is 0.\n",
            "\n"
          ]
        }
      ]
    },
    {
      "cell_type": "code",
      "source": [
        "def print_date(day,month,year,style):\n",
        "  if style == 0:\n",
        "    print(day,month,year, sep = '/')\n",
        "  elif style == 1:\n",
        "    print(month,day,year, sep = '/')\n",
        "  else:\n",
        "    print('invalid style')"
      ],
      "metadata": {
        "id": "OXam3kzZ2sUa"
      },
      "execution_count": null,
      "outputs": []
    },
    {
      "cell_type": "code",
      "source": [
        "print_date(29,6,1999,0)"
      ],
      "metadata": {
        "colab": {
          "base_uri": "https://localhost:8080/"
        },
        "id": "K0p_aoxE3UWW",
        "outputId": "1d33ef5c-dbd6-4d7f-baff-b2522fd4d518"
      },
      "execution_count": null,
      "outputs": [
        {
          "output_type": "stream",
          "name": "stdout",
          "text": [
            "29/6/1999\n"
          ]
        }
      ]
    },
    {
      "cell_type": "code",
      "source": [
        "print_date(29,6,1999,1)"
      ],
      "metadata": {
        "colab": {
          "base_uri": "https://localhost:8080/"
        },
        "id": "SG6aEdRf3_3U",
        "outputId": "66c1070c-32c2-48d2-c26a-7237f4119a94"
      },
      "execution_count": null,
      "outputs": [
        {
          "output_type": "stream",
          "name": "stdout",
          "text": [
            "6/29/1999\n"
          ]
        }
      ]
    },
    {
      "cell_type": "code",
      "source": [
        "def multiply(num1=3, num2):\n",
        "    return num1 * num2\n",
        "\n",
        "print(multiply(2, 4))"
      ],
      "metadata": {
        "colab": {
          "base_uri": "https://localhost:8080/",
          "height": 143
        },
        "id": "cpUV_83R4BVl",
        "outputId": "cbff57de-6eaa-493f-98a9-bd92c84d7791"
      },
      "execution_count": null,
      "outputs": [
        {
          "output_type": "error",
          "ename": "SyntaxError",
          "evalue": "ignored",
          "traceback": [
            "\u001b[0;36m  File \u001b[0;32m\"<ipython-input-64-f42fbf0805a4>\"\u001b[0;36m, line \u001b[0;32m1\u001b[0m\n\u001b[0;31m    def multiply(num1=3, num2):\u001b[0m\n\u001b[0m                         ^\u001b[0m\n\u001b[0;31mSyntaxError\u001b[0m\u001b[0;31m:\u001b[0m non-default argument follows default argument\n"
          ]
        }
      ]
    },
    {
      "cell_type": "code",
      "source": [
        "def multiply(num2,num1=3):\n",
        "    return num1 * num2\n",
        "\n",
        "print(multiply(2, 4))"
      ],
      "metadata": {
        "colab": {
          "base_uri": "https://localhost:8080/"
        },
        "id": "-njzIc2O4KbG",
        "outputId": "f060cc7d-cd0d-42af-ad7a-a7ccb4853f44"
      },
      "execution_count": null,
      "outputs": [
        {
          "output_type": "stream",
          "name": "stdout",
          "text": [
            "8\n"
          ]
        }
      ]
    },
    {
      "cell_type": "code",
      "source": [
        "age = 25\n",
        "if age>=18:\n",
        "    print('vote')\n",
        "else:\n",
        "    print('you cannot vote')"
      ],
      "metadata": {
        "colab": {
          "base_uri": "https://localhost:8080/"
        },
        "id": "2FzYPK_p4OnD",
        "outputId": "58bd0ea7-7425-40cc-c44f-35ca0b4de62a"
      },
      "execution_count": null,
      "outputs": [
        {
          "output_type": "stream",
          "name": "stdout",
          "text": [
            "vote\n"
          ]
        }
      ]
    },
    {
      "cell_type": "code",
      "source": [
        "age = 25\n",
        " #  output if condition is True if  else output if condition is False\n",
        "print('Vote' if age>=18 else 'you cannot vote')"
      ],
      "metadata": {
        "colab": {
          "base_uri": "https://localhost:8080/"
        },
        "id": "VrbMMAMQ7MEj",
        "outputId": "5c13b229-1d3e-4020-d59a-a3484bdf997f"
      },
      "execution_count": null,
      "outputs": [
        {
          "output_type": "stream",
          "name": "stdout",
          "text": [
            "Vote\n"
          ]
        }
      ]
    },
    {
      "cell_type": "code",
      "source": [
        "age = 2\n",
        "print('Vote' if age >= 18 else 'You cannot Vote')"
      ],
      "metadata": {
        "colab": {
          "base_uri": "https://localhost:8080/"
        },
        "id": "c4eCajiJ7aj5",
        "outputId": "69eb9e1a-ad2c-41b7-89f7-e90814f29b06"
      },
      "execution_count": null,
      "outputs": [
        {
          "output_type": "stream",
          "name": "stdout",
          "text": [
            "You cannot Vote\n"
          ]
        }
      ]
    },
    {
      "cell_type": "code",
      "source": [
        "#Even or odd\n",
        "num = 250\n",
        "print('Even' if num%2 == 0 else 'Odd')"
      ],
      "metadata": {
        "colab": {
          "base_uri": "https://localhost:8080/"
        },
        "id": "NnHo0mb17heX",
        "outputId": "28f90bb6-8b8f-4698-ff47-1ead8ec08426"
      },
      "execution_count": null,
      "outputs": [
        {
          "output_type": "stream",
          "name": "stdout",
          "text": [
            "Even\n"
          ]
        }
      ]
    },
    {
      "cell_type": "code",
      "source": [
        "num = 1999\n",
        "print('Even' if num %2 == 0 else 'Odd')"
      ],
      "metadata": {
        "colab": {
          "base_uri": "https://localhost:8080/"
        },
        "id": "IQG6YrIT7skD",
        "outputId": "368c2d1b-10f6-4726-eced-56103cc134cf"
      },
      "execution_count": null,
      "outputs": [
        {
          "output_type": "stream",
          "name": "stdout",
          "text": [
            "Odd\n"
          ]
        }
      ]
    },
    {
      "cell_type": "code",
      "source": [
        "num = 10\n",
        "if num>0:\n",
        "    print('+ive')\n",
        "elif num<0:\n",
        "    print('-ive')\n",
        "else:\n",
        "    print('zero')\n"
      ],
      "metadata": {
        "colab": {
          "base_uri": "https://localhost:8080/"
        },
        "id": "J6yDpqR471vG",
        "outputId": "660d7b02-b2de-43bf-c420-59ef3d28969c"
      },
      "execution_count": null,
      "outputs": [
        {
          "output_type": "stream",
          "name": "stdout",
          "text": [
            "+ive\n"
          ]
        }
      ]
    },
    {
      "cell_type": "code",
      "source": [
        "num = 10\n",
        "if num>0:\n",
        "    print('+ive')\n",
        "else:\n",
        "    if num<0:\n",
        "        print('-ive')\n",
        "    else:\n",
        "        print('zero')"
      ],
      "metadata": {
        "colab": {
          "base_uri": "https://localhost:8080/"
        },
        "id": "J2CaZVLF73ek",
        "outputId": "a030f384-48cb-47bc-d952-70c19b0963f5"
      },
      "execution_count": null,
      "outputs": [
        {
          "output_type": "stream",
          "name": "stdout",
          "text": [
            "+ive\n"
          ]
        }
      ]
    },
    {
      "cell_type": "markdown",
      "source": [
        "## Lambda Functions (Syntax = lambda arguments : expression)\n",
        "1. A lambda function is a small anonymous function.\n",
        "\n",
        "2. A lambda function can take any number of arguments, but can only have one expression.\n",
        "\n",
        "https://www.w3schools.com/python/python_lambda.asp"
      ],
      "metadata": {
        "id": "GDoYuol49lo_"
      }
    },
    {
      "cell_type": "code",
      "source": [
        "#Example\n",
        "x = lambda a : a + 10\n",
        "print(x(5))"
      ],
      "metadata": {
        "colab": {
          "base_uri": "https://localhost:8080/"
        },
        "id": "1GWB-_q49pYG",
        "outputId": "e45f4a85-b2d9-4767-d484-7abaefabafa1"
      },
      "execution_count": null,
      "outputs": [
        {
          "output_type": "stream",
          "name": "stdout",
          "text": [
            "15\n"
          ]
        }
      ]
    },
    {
      "cell_type": "code",
      "source": [
        "x = lambda a, b : a * b\n",
        "print(x(5, 6))"
      ],
      "metadata": {
        "colab": {
          "base_uri": "https://localhost:8080/"
        },
        "id": "AUe-CWN4-Ahi",
        "outputId": "720bc829-5826-4d13-90bf-abc3b4a904eb"
      },
      "execution_count": null,
      "outputs": [
        {
          "output_type": "stream",
          "name": "stdout",
          "text": [
            "30\n"
          ]
        }
      ]
    },
    {
      "cell_type": "code",
      "source": [
        "x = lambda a, b, c : a + b + c\n",
        "print(x(5, 6, 2))"
      ],
      "metadata": {
        "colab": {
          "base_uri": "https://localhost:8080/"
        },
        "id": "RKV1N2lf-DLW",
        "outputId": "8861be64-614a-45fe-8533-358da451fe81"
      },
      "execution_count": null,
      "outputs": [
        {
          "output_type": "stream",
          "name": "stdout",
          "text": [
            "13\n"
          ]
        }
      ]
    },
    {
      "cell_type": "code",
      "source": [
        "# lambda functions\n",
        "def squarer (num):\n",
        "    return num**2\n",
        "print(type(squarer))\n",
        "print(squarer(5))"
      ],
      "metadata": {
        "colab": {
          "base_uri": "https://localhost:8080/"
        },
        "id": "BKZDTi48-HpT",
        "outputId": "5c4666aa-79a3-48e8-e1db-4bc090a6b1f5"
      },
      "execution_count": null,
      "outputs": [
        {
          "output_type": "stream",
          "name": "stdout",
          "text": [
            "<class 'function'>\n",
            "25\n"
          ]
        }
      ]
    },
    {
      "cell_type": "code",
      "source": [
        "def adder (a,b):\n",
        "    return a+b\n",
        "print(type(adder))\n",
        "print(adder(5,2))"
      ],
      "metadata": {
        "colab": {
          "base_uri": "https://localhost:8080/"
        },
        "id": "YHJxTCUy-Lvf",
        "outputId": "9c5cdcbb-546f-4923-c5bb-43b63f4c2233"
      },
      "execution_count": null,
      "outputs": [
        {
          "output_type": "stream",
          "name": "stdout",
          "text": [
            "<class 'function'>\n",
            "7\n"
          ]
        }
      ]
    },
    {
      "cell_type": "code",
      "source": [
        "######### lambda input:output\n",
        "adder = lambda a,b:a+b\n",
        "print(type(adder))\n",
        "print(adder(5,2))"
      ],
      "metadata": {
        "colab": {
          "base_uri": "https://localhost:8080/"
        },
        "id": "qWfYcp8V-Q4E",
        "outputId": "524b26ea-a74c-4d89-a907-3b1bdc9bf7cc"
      },
      "execution_count": null,
      "outputs": [
        {
          "output_type": "stream",
          "name": "stdout",
          "text": [
            "<class 'function'>\n",
            "7\n"
          ]
        }
      ]
    },
    {
      "cell_type": "code",
      "source": [
        "def pi ():\n",
        "    return 3.14159265359\n",
        "print(type(pi))\n",
        "print(pi())"
      ],
      "metadata": {
        "colab": {
          "base_uri": "https://localhost:8080/"
        },
        "id": "WC9J-tjy-VKK",
        "outputId": "a9e31fe0-abc4-4213-80cd-ffd06335d9a2"
      },
      "execution_count": null,
      "outputs": [
        {
          "output_type": "stream",
          "name": "stdout",
          "text": [
            "<class 'function'>\n",
            "3.14159265359\n"
          ]
        }
      ]
    },
    {
      "cell_type": "code",
      "source": [
        "######### lambda input:output\n",
        "pi = lambda :3.14159265359\n",
        "print(type(pi))\n",
        "print(pi())\n",
        "print(pi())\n",
        "print(pi())\n",
        "print(pi())\n",
        "print(pi())"
      ],
      "metadata": {
        "colab": {
          "base_uri": "https://localhost:8080/"
        },
        "id": "FXhuC1IK-aZN",
        "outputId": "6bb1dd43-18ef-48c5-9e89-099a9d9e6914"
      },
      "execution_count": null,
      "outputs": [
        {
          "output_type": "stream",
          "name": "stdout",
          "text": [
            "<class 'function'>\n",
            "3.14159265359\n",
            "3.14159265359\n",
            "3.14159265359\n",
            "3.14159265359\n",
            "3.14159265359\n"
          ]
        }
      ]
    },
    {
      "cell_type": "code",
      "source": [
        "squarer = lambda num : num**2\n",
        "print(squarer(2))"
      ],
      "metadata": {
        "colab": {
          "base_uri": "https://localhost:8080/"
        },
        "id": "VMpLGDY9-fUF",
        "outputId": "54939d28-fccf-4e98-cf3c-974b5d0330b4"
      },
      "execution_count": null,
      "outputs": [
        {
          "output_type": "stream",
          "name": "stdout",
          "text": [
            "4\n"
          ]
        }
      ]
    },
    {
      "cell_type": "code",
      "source": [
        "subtract = lambda a,b,c : a-b-c\n",
        "print(subtract(100,30,24))"
      ],
      "metadata": {
        "colab": {
          "base_uri": "https://localhost:8080/"
        },
        "id": "301lqAP8-s8C",
        "outputId": "e6c4b512-aa75-4250-dafa-7e8954ffb774"
      },
      "execution_count": null,
      "outputs": [
        {
          "output_type": "stream",
          "name": "stdout",
          "text": [
            "46\n"
          ]
        }
      ]
    },
    {
      "cell_type": "code",
      "source": [
        "# anonymous functions\n",
        "(lambda num:num**2)(5)"
      ],
      "metadata": {
        "colab": {
          "base_uri": "https://localhost:8080/"
        },
        "id": "s7Ec8nPE-64u",
        "outputId": "1fa9b872-4a05-48e3-a29d-9cfbf09a3800"
      },
      "execution_count": null,
      "outputs": [
        {
          "output_type": "execute_result",
          "data": {
            "text/plain": [
              "25"
            ]
          },
          "metadata": {},
          "execution_count": 112
        }
      ]
    },
    {
      "cell_type": "code",
      "source": [
        "(lambda a,b : a+b)(4,3)"
      ],
      "metadata": {
        "colab": {
          "base_uri": "https://localhost:8080/"
        },
        "id": "nV0L3LqR_AaL",
        "outputId": "54074aa6-efb9-49e2-a7d5-10140a71dff0"
      },
      "execution_count": null,
      "outputs": [
        {
          "output_type": "execute_result",
          "data": {
            "text/plain": [
              "7"
            ]
          },
          "metadata": {},
          "execution_count": 114
        }
      ]
    },
    {
      "cell_type": "code",
      "source": [
        "def function(var):\n",
        "    print(var)\n",
        "\n",
        "function(3)\n",
        "\n",
        "var = 5\n",
        "function(var)"
      ],
      "metadata": {
        "colab": {
          "base_uri": "https://localhost:8080/"
        },
        "id": "0UyNftro_G7G",
        "outputId": "e7ef1e03-3cfa-4fe9-84ce-ec31d896d5f2"
      },
      "execution_count": null,
      "outputs": [
        {
          "output_type": "stream",
          "name": "stdout",
          "text": [
            "3\n",
            "5\n"
          ]
        }
      ]
    },
    {
      "cell_type": "code",
      "source": [
        "def function(var=5):\n",
        "    var = var + 1\n",
        "    print(var)\n",
        "\n",
        "function()\n",
        "function(10)"
      ],
      "metadata": {
        "colab": {
          "base_uri": "https://localhost:8080/"
        },
        "id": "sRb7i-wK_NK1",
        "outputId": "b2fbe18d-56dd-4d95-dbc7-931ff7ff26fa"
      },
      "execution_count": null,
      "outputs": [
        {
          "output_type": "stream",
          "name": "stdout",
          "text": [
            "6\n",
            "11\n"
          ]
        }
      ]
    },
    {
      "cell_type": "markdown",
      "source": [
        "# Assignment Questions"
      ],
      "metadata": {
        "id": "mmEm_OIk_d_u"
      }
    },
    {
      "cell_type": "code",
      "source": [
        "#Q1. BMI Calculator\n",
        "def bmi_calculator(x,y):\n",
        "  height = x/100\n",
        "  BMI = y/(height * height)\n",
        "  BMI = round(BMI,1)\n",
        "  if BMI < 18.5:\n",
        "    print('Underweight')\n",
        "  elif BMI >= 18.5 and BMI < 24.9:\n",
        "    print('Normal')\n",
        "  elif BMI >= 24.9 and BMI <= 29.9:\n",
        "    print('Overweight')\n",
        "  else:\n",
        "    print('obese')\n",
        "bmi_calculator(x = 101,y = 29)"
      ],
      "metadata": {
        "colab": {
          "base_uri": "https://localhost:8080/"
        },
        "id": "gTQE6N28_g44",
        "outputId": "1e3a36ff-f252-4aa9-b4ee-c92b48bbb6bc"
      },
      "execution_count": null,
      "outputs": [
        {
          "output_type": "stream",
          "name": "stdout",
          "text": [
            "Overweight\n"
          ]
        }
      ]
    },
    {
      "cell_type": "code",
      "source": [
        "#Q2. Find The Floor\n",
        "import math\n",
        "def solve(A):\n",
        "  result = math.floor(A/200)\n",
        "  return result\n",
        "solve(2113)"
      ],
      "metadata": {
        "colab": {
          "base_uri": "https://localhost:8080/"
        },
        "id": "2Qhx1Z7L4brL",
        "outputId": "2cc109fa-a9cf-4654-9ca2-2162e5b6f599"
      },
      "execution_count": null,
      "outputs": [
        {
          "output_type": "execute_result",
          "data": {
            "text/plain": [
              "10"
            ]
          },
          "metadata": {},
          "execution_count": 129
        }
      ]
    },
    {
      "cell_type": "code",
      "source": [
        "solve(-2113)"
      ],
      "metadata": {
        "colab": {
          "base_uri": "https://localhost:8080/"
        },
        "id": "19qe2EHq5QI3",
        "outputId": "52264318-eca6-4220-df7f-4ed4cbf9c64c"
      },
      "execution_count": null,
      "outputs": [
        {
          "output_type": "execute_result",
          "data": {
            "text/plain": [
              "-11"
            ]
          },
          "metadata": {},
          "execution_count": 128
        }
      ]
    },
    {
      "cell_type": "code",
      "source": [
        "#Q3. Time to end Corona\n",
        "def solve(A, B, C):\n",
        "  corona_cases = B+C\n",
        "  remaining_cases = A - corona_cases\n",
        "  return remaining_cases\n",
        "solve(5,4,1)"
      ],
      "metadata": {
        "colab": {
          "base_uri": "https://localhost:8080/"
        },
        "id": "cDqMTkxE5UpA",
        "outputId": "a6a6179e-8978-4c74-de3c-45188ea71a77"
      },
      "execution_count": null,
      "outputs": [
        {
          "output_type": "execute_result",
          "data": {
            "text/plain": [
              "0"
            ]
          },
          "metadata": {},
          "execution_count": 133
        }
      ]
    },
    {
      "cell_type": "code",
      "source": [
        "def solve(A, B, C):\n",
        "  numberofdays = 0\n",
        "  while C > 0:\n",
        "    C = (B+C)-A\n",
        "    numberofdays += 1\n",
        "  return numberofdays\n",
        "solve(5,4,1)"
      ],
      "metadata": {
        "colab": {
          "base_uri": "https://localhost:8080/"
        },
        "id": "y05xiBj89JrO",
        "outputId": "22599478-e98f-4a2c-9872-a2214701c55b"
      },
      "execution_count": null,
      "outputs": [
        {
          "output_type": "execute_result",
          "data": {
            "text/plain": [
              "1"
            ]
          },
          "metadata": {},
          "execution_count": 136
        }
      ]
    },
    {
      "cell_type": "code",
      "source": [
        "solve(4,3,2)"
      ],
      "metadata": {
        "colab": {
          "base_uri": "https://localhost:8080/"
        },
        "id": "0fm1HaXH9bfw",
        "outputId": "5bb8da46-15ae-4535-da70-94558ddd0ff3"
      },
      "execution_count": null,
      "outputs": [
        {
          "output_type": "execute_result",
          "data": {
            "text/plain": [
              "2"
            ]
          },
          "metadata": {},
          "execution_count": 137
        }
      ]
    },
    {
      "cell_type": "code",
      "source": [
        "def solve(A):\n",
        "  val = A/200\n",
        "  a = int(val)\n",
        "  if val >= 0:\n",
        "    if val < a+0.5:\n",
        "      return a\n",
        "    else:\n",
        "      return a+1\n",
        "  else:\n",
        "    if val > a-0.5:\n",
        "      return a\n",
        "    else:\n",
        "      return a-1\n",
        "solve(2113)"
      ],
      "metadata": {
        "colab": {
          "base_uri": "https://localhost:8080/"
        },
        "id": "BMH51hgC-s44",
        "outputId": "4c381427-3edd-454c-f596-233ec5e90121"
      },
      "execution_count": null,
      "outputs": [
        {
          "output_type": "execute_result",
          "data": {
            "text/plain": [
              "11"
            ]
          },
          "metadata": {},
          "execution_count": 138
        }
      ]
    }
  ]
}